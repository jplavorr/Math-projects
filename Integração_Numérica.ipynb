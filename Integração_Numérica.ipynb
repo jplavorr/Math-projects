{
  "nbformat": 4,
  "nbformat_minor": 0,
  "metadata": {
    "colab": {
      "name": "Integração Numérica.ipynb",
      "provenance": [],
      "collapsed_sections": [],
      "authorship_tag": "ABX9TyO7Qc1tQnjdA1vlFxEWSnwt",
      "include_colab_link": true
    },
    "kernelspec": {
      "name": "python3",
      "display_name": "Python 3"
    }
  },
  "cells": [
    {
      "cell_type": "markdown",
      "metadata": {
        "id": "view-in-github",
        "colab_type": "text"
      },
      "source": [
        "<a href=\"https://colab.research.google.com/github/jplavorr/Math-projects/blob/main/Integra%C3%A7%C3%A3o_Num%C3%A9rica.ipynb\" target=\"_parent\"><img src=\"https://colab.research.google.com/assets/colab-badge.svg\" alt=\"Open In Colab\"/></a>"
      ]
    },
    {
      "cell_type": "markdown",
      "metadata": {
        "id": "ZYnLssDTJxvQ"
      },
      "source": [
        "<h1><u>Interpolação</u></h1>\n",
        "\n",
        "\n",
        "Considere uma função $f(x)$ cujos valores são conhecidos em um conjunto de pontos finito  $\\{x_0,\\,\\,x_1,\\,...,\\,x_n\\}$  \n",
        "\n",
        "Por Exemplo: \n",
        "\n",
        "<table bgcolor=\" grey\"> \n",
        "<tr> \n",
        "<td> $x$ </td>\n",
        "<td> $1$ </td>\n",
        "<td> $2$ </td>\n",
        "<td> $3$ </td>\n",
        "<td> $4$ </td>\n",
        "<td> $5$ </td>\n",
        "<td> $6$ </td>\n",
        "</tr> \n",
        "<tr>\n",
        "<td> $f$($x$) </td>\n",
        "<td> $1$ </td>\n",
        "<td> $3$ </td>\n",
        "<td> $-2$ </td>\n",
        "<td> $5$ </td>\n",
        "<td> $6$ </td>\n",
        "<td> $20$ </td>\n",
        "</tr>\n",
        "</table>\n",
        "\n",
        "A partir desses valores, para tentar determinar algo que não está na tabela, por exemplo, $f(2.3)$ ou $x$ tal que $f(x)=7$.\n",
        "\n",
        "Essas tecnicas consistem em, escolhido um tipo de função(polinomial, racional, trigonometrica, etc) determinar uma função $g(x)$ que cumpra $ g(x_0) = f(x_0)$,$g(x_1) = f(x_1)$, $...$ , $g(x_n) = f(x_n)$ e usar $g(x)$ ap omvés de $f$.\n",
        "\n",
        "Estudaremos <u><strong> interpolação polinomial </strong></u>, i.e, a função $g$ sempre será um polinômio $a_0 + a_1x + a_1x^2 + ... + a_nx^n$ que chamaremos de $p(x)$. Assim dados $n+1$ pontos $$ (x_0,f(x_0)), (x_1,f(x_1)), ..., (x_n,f(x_n)) $$ Nosso objetivo será encontrar o polinômio $p(x) = a_0 + a_1x + a_1x^2 + ... + a_nx^n$ de grau, no máximo, igual a $n$ e que satisfaça  $$p(x_0) = f(x_0), p(x_1) = f(x_1),..., p(x_n) = f(x_n) $$ \n",
        "\n",
        "Em outras palavras, queremos resolver o seguinte sistema\n",
        "\n",
        "$$ \\begin{cases}\n",
        "a_0 + a_1x_0 + a_1x_0^2 + ... + a_nx_0^n=f(x_0) \\\\\n",
        "a_0 + a_1x_1 + a_1x_1^2 + ... + a_nx_1^n=f(x_1) \\\\\n",
        "\\vdots     \\\\\n",
        "a_0 + a_1x_n + a_1x_n^2 + ... + a_nx_n^n=f(x_n)\n",
        "\\end{cases}$$\n",
        "\n",
        "de $n+1$ equações e $n+1$ incógnitas, que são os coeficientes $a_0,a_1,...,a_n$ de $p(x)$. Note que a matriz $A$ dos coeficientes do sistema linear tem um formato especial:\n",
        "\n",
        "$$\n",
        "\\begin{equation*}\n",
        "  A= \n",
        "    \\begin{pmatrix}\n",
        "      \\begin{array}{@{} c @{} | @{} c @{} }\n",
        "        \\begin{matrix}\n",
        "          1 & x_0 & x_0^2 &  x_0^3 & \\dots & x_0^n \\\\  \n",
        "          1 & x_1 & x_1^2 &  x_1^3 & \\dots & x_1^n \\\\  \n",
        "          1 & x_2 & x_2^2 &  x_2^3 & \\dots & x_2^n \\\\ \n",
        "          \\vdots & \\vdots & \\vdots & \\ddots & \\vdots& \\vdots \\\\\n",
        "          1 & x_n & x_n^2 &  x_n^3 & \\dots & x_n^n \\\\ \n",
        "        \\end{matrix}\n",
        "      \\end{array}\n",
        "    \\end{pmatrix}\n",
        "  \\end{equation*} \n",
        "$$\n",
        "\n",
        "Matrizes com esse formato são chamadas de <strong> Matrizes de Vandermonde </strong>. Afirmamos que se todos $x_i's$ forem distintos, então $det(A) \\neq 0$, o que garante que o sistema tem solução única. \n"
      ]
    },
    {
      "cell_type": "markdown",
      "metadata": {
        "id": "qT0EuUi4VN6c"
      },
      "source": [
        "<h1><u>Polinômio Interpolador de Lagrange</u></h1>\n",
        "\n",
        "\n",
        "Suponha que queremos determinar um polinômio $p(x)$ tal que $p(x_0) = y_0$, $p(x_1) = y_1$, $...$, $p(x_n) = y_n $, e de grau, no máximo, igual a $n$. A fórmula de Lagrange é \n",
        "$$p(x) = y_0\\cdot L_0(x) + y_1 \\cdot L_1(x) + ... + y_n \\cdot L_n(x) $$\n",
        "\n",
        "Onde $L_0(x),...,L_n(x)$ são polinômios de grau n, que vamos determinar a seguir. Para garantir que $p(x_i) = y_i$, a forma mais simples é exigir que $$ L_k(x_i)=\n",
        "   \\begin{cases}\n",
        "    1, \\ \\, \\textrm{se } k = 1 \\\\\n",
        "    0, \\ \\, \\textrm{se } k \\neq 1 \\\\\n",
        "   \\end{cases}  $$\n",
        "\n",
        "o que ocorre se pusermos $$ \n",
        "L_k(x) = \\dfrac{(x - x_0) \\cdot (x - x_1) \\cdot \\ \\dots \\  \\cdot(x - x_{k-1}) \\cdot (x - x_{k+1})  \\cdot \\ \\dots \\  \\cdot(x-x_n)}{(x_k - x_0) \\cdot (x_k - x_1) \\cdot \\ \\dots \\  \\cdot(x_k - x_{k-1}) \\cdot (x_k - x_{k+1})  \\cdot \\ \\dots \\  \\cdot(x_k-x_n)} $$\n",
        "\n",
        "Assim, note que no numerador pulamos o fator $(x-x_k)$, enquanto no denominador o fator $(x_k - x_k)$ é ignorado. Observe ainda que o denominador é constante e que o numerador é produto de $n$ polinômios de grau $1$, portanto $L_k(x)$ tem grau $n$, como queríamos.\n",
        "\n",
        "$$p_i(x) = \\prod_{j=0, j\\neq i}^{n}\\dfrac{(x-x_j)}{(x_i-x_j)}$$\n"
      ]
    },
    {
      "cell_type": "code",
      "metadata": {
        "id": "f0xVH8kCJui3"
      },
      "source": [
        "import numpy as np\n",
        "import matplotlib.pyplot as plt \n",
        "from scipy.optimize import curve_fit\n",
        "from math import sin, cos, exp, pi\n",
        "from scipy.special.orthogonal import p_roots\n",
        "%matplotlib inline"
      ],
      "execution_count": null,
      "outputs": []
    },
    {
      "cell_type": "code",
      "metadata": {
        "id": "0zz-lQWN4HHg"
      },
      "source": [
        "x =  np.array([8.1,8.3,8.6,8.7],float)\n",
        "y = np.array([16.94410, 17.56492, 18.50515, 18.82091],float)\n",
        "\n",
        "xp = float(input(\"Valor de x: \"))\n",
        "yp = 0\n",
        "for xi,yi in zip(x,y):      #A função zip quebra o array em pares ordenados \n",
        "    yp += yi*np.prod((xp - x[x != xi])/(xi - x[x != xi])) \n",
        "\n",
        "print(\"para x = $%.2f, y = %f\" %(xp,yp))\n",
        "  "
      ],
      "execution_count": null,
      "outputs": []
    },
    {
      "cell_type": "code",
      "metadata": {
        "id": "C0uKosp-VNTF",
        "colab": {
          "base_uri": "https://localhost:8080/",
          "height": 279
        },
        "outputId": "72f7243e-e22f-46e3-ed71-ec187ff25f3d"
      },
      "source": [
        "#Para plotar o gráfico\n",
        "\n",
        "x =  np.array([8.1,8.3,8.6,8.7],float)\n",
        "y = np.array([16.94410, 17.56492, 18.50515, 18.82091],float)\n",
        "\n",
        "xplt = np.linspace(x[0], x[-1])\n",
        "yplt = np.array([],float)\n",
        "for xp in xplt:\n",
        "  yp = 0\n",
        "\n",
        "  for xi,yi in zip(x,y):      #A função zip quebra o array em pares ordenados \n",
        "    yp += yi*np.prod((xp - x[x != xi])/(xi - x[x != xi])) \n",
        "  yplt = np.append(yplt,yp)\n",
        "     \n",
        "#Plot\n",
        "\n",
        "plt.plot(x,y, 'ro', xplt, yplt, 'b-')\n",
        "plt.xlabel('x')\n",
        "plt.ylabel('y')\n",
        "plt.show()\n",
        "  \n"
      ],
      "execution_count": null,
      "outputs": [
        {
          "output_type": "display_data",
          "data": {
            "image/png": "[encoded data removed]",
            "text/plain": [
              "<Figure size 432x288 with 1 Axes>"
            ]
          },
          "metadata": {
            "tags": [],
            "needs_background": "light"
          }
        }
      ]
    },
    {
      "cell_type": "markdown",
      "metadata": {
        "id": "9sjznsyiPpGI"
      },
      "source": [
        "<h1><u>Método dos Mínimos Quadrados</u></h1>\n",
        "\n",
        "Considere uma função $f(x)$ tabelada pelos pontos $(x_1, f(x_1))$, $(x_2, f(x_2))$, $\\dots$, $(x_n, f(x_n))$  e n funções $g_1, g_2, \\dots, g_n$. Nosso objetivo será determinar constantes $\\alpha_1, \\dots, \\alpha_n$ tais que a função $$\\varphi(x) = \\alpha_1 g_1(x) + \\alpha_2 g_2(x) + \\dots \\alpha_n g_n(x)=\\sum_{i=1}^{n}\\alpha_i g_i(x)$$ \n",
        "\n",
        "aproxima da melhor forma possível a função $f(x)$.\n",
        "\n",
        "Isso pode ser feito minimizando os erros $$ d_k = f(x_k) - \\varphi(x_k) \\ \\ \\ p/ \\ \\ k \\in \\{1,\\,\\,2,\\,...,\\,m\\} $$\n",
        "\n",
        "A abordagem do método dos mínimos quadrados consiste em minimizar o erro quadrático total: $$ \\sum_{k=1}^{m}d_k^2 = \\sum_{k=1}^{m}(f(x_k) - \\varphi(x_k))^2$$\n",
        "\n",
        "Consideramos a soma para analisar todos os erros simultaneamente e os quadrados para evitar um $d_k$ negativo diminua ou até mesmo cancele o erro total indevidamente."
      ]
    },
    {
      "cell_type": "code",
      "metadata": {
        "id": "DIfAHHjxJHLp"
      },
      "source": [
        "#Fitting function\n",
        "def func(x, a, b):\n",
        "    #return a*np.exp(b*x)\n",
        "    return b/(a+x)\n",
        " \n"
      ],
      "execution_count": null,
      "outputs": []
    },
    {
      "cell_type": "code",
      "metadata": {
        "id": "p_eztHUCvSP-"
      },
      "source": [
        "#Dados de x e y   \n",
        "xData = np.array([0.2, 0.3, 0.6, 0.9, 1.1, 1.3, 1.4, 1.6])\n",
        "yData = np.array([0.050446, 0.098426, 0.33277, 0.72660, 1.0972, 1.5697, 1.8487, 2.5015])\n",
        " \n"
      ],
      "execution_count": null,
      "outputs": []
    },
    {
      "cell_type": "code",
      "metadata": {
        "id": "J8YftemNvURr",
        "colab": {
          "base_uri": "https://localhost:8080/",
          "height": 283
        },
        "outputId": "2d1ebe01-9d73-45b0-af47-2dbecb6d53e0"
      },
      "source": [
        "#Plotando os pontos\n",
        "plt.plot(xData, yData, 'bo', label='Dados-Experimentais')\n",
        " \n"
      ],
      "execution_count": null,
      "outputs": [
        {
          "output_type": "execute_result",
          "data": {
            "text/plain": [
              "[<matplotlib.lines.Line2D at 0x7f0ec58a3438>]"
            ]
          },
          "metadata": {
            "tags": []
          },
          "execution_count": 45
        },
        {
          "output_type": "display_data",
          "data": {
            "image/png": "[encoded data removed]",
            "text/plain": [
              "<Figure size 432x288 with 1 Axes>"
            ]
          },
          "metadata": {
            "tags": [],
            "needs_background": "light"
          }
        }
      ]
    },
    {
      "cell_type": "code",
      "metadata": {
        "id": "Sj6P02OivV7L"
      },
      "source": [
        "# Palpite inicial para os parametros\n",
        "initialGuess = [1.0,1.0]    \n",
        " \n"
      ],
      "execution_count": null,
      "outputs": []
    },
    {
      "cell_type": "code",
      "metadata": {
        "id": "xdU7U6BdvYJE",
        "colab": {
          "base_uri": "https://localhost:8080/"
        },
        "outputId": "8d09a937-a3b8-420a-83d9-931939d16f90"
      },
      "source": [
        "#Performance da curva_fit\n",
        "popt, pcov = curve_fit(func, xData, yData, initialGuess)\n",
        "print(popt)\n",
        "\n",
        " \n"
      ],
      "execution_count": null,
      "outputs": [
        {
          "output_type": "stream",
          "text": [
            "[41157384.91949028 42316695.68225762]\n"
          ],
          "name": "stdout"
        }
      ]
    },
    {
      "cell_type": "code",
      "metadata": {
        "id": "WaODXM8bvZ5Q"
      },
      "source": [
        "#Valores de x para função que melhor se adapta\n",
        "xFit = np.arange(0.0, 5.0, 0.01)    #Ele separa o eixo de 0 a 5 de 0.01\n",
        " \n"
      ],
      "execution_count": null,
      "outputs": []
    },
    {
      "cell_type": "code",
      "metadata": {
        "id": "Muv8j5Jxvbop",
        "colab": {
          "base_uri": "https://localhost:8080/",
          "height": 279
        },
        "outputId": "3f230542-772c-4f29-82f6-a8626b677759"
      },
      "source": [
        "#Plot the fitted function\n",
        "plt.plot(xData, yData, 'bo', label='Dados-Experimentais')\n",
        "plt.plot(xFit, func(xFit, *popt), 'r', label='Parâmetros: a=%5.3f, b=%5.3f' % tuple(popt))\n",
        " \n",
        "plt.xlabel('x')\n",
        "plt.ylabel('y')\n",
        "plt.legend()\n",
        "plt.show()\n",
        " \n"
      ],
      "execution_count": null,
      "outputs": [
        {
          "output_type": "display_data",
          "data": {
            "image/png": "[encoded data removed]",
            "text/plain": [
              "<Figure size 432x288 with 1 Axes>"
            ]
          },
          "metadata": {
            "tags": [],
            "needs_background": "light"
          }
        }
      ]
    },
    {
      "cell_type": "code",
      "metadata": {
        "id": "Rm5-_g3YJ6om"
      },
      "source": [
        ""
      ],
      "execution_count": null,
      "outputs": []
    },
    {
      "cell_type": "markdown",
      "metadata": {
        "id": "PgDkuEf8FlIl"
      },
      "source": [
        "<h1><u>Integração Numérica</u></h1>\n",
        "\n",
        "Em cálculo 1, aprendemos que toda função continua $f(x)$ possui uma primitivva $F(x)$, isto é, uma função tal que $F'(x) = f(x)$. Entretanto, nem sempre é possível encontrar uma fórmula para $F(x)$, como ocorre no caso de $f(x) = e^{x^2}$. Mesmo assim, funções como essa são importantes, portanto, precisamos integrar funções como essa sem recorrer ao Teorema Fundamental do Cálculo. Da mesma forma, se $f(x)$ for uma função tabelada por um número finito de pontos, também precisaremos de técnicas novas para calcular integrais."
      ]
    },
    {
      "cell_type": "markdown",
      "metadata": {
        "id": "eH8nBf1rGlAD"
      },
      "source": [
        "<h1>Regra dos Trapézios</h1>\n",
        "\n",
        "Considere uma função contínua $f(x)$, definida no intervalo $[a,b]$. Vamos dividir o intervalo em $n$ subintervalos $[x_{i-1}, x_i]$, com $a=x_0<x_1< \\dots < x_n=b $, de modo que todos os subintervalos tenham comprimento $h$. A ideia consiste em formar $n$ trapézios conectando pontos $(x_{i-1}, f(x_{i-1}))$ e $(x_{i}, f(x_{i}))$ consecutivos. Note que a soma das áreas dos trapézios é uma aproximação para área abaixo da curva e, portanto, para $$\\int_{a}^{b} f(x) \\,dx$$\n",
        "\n",
        "no casa em que $f(x)$ é não negativo.\n",
        "\n",
        "A altura de todos esses trapézios vale $h$. Enquanto suas bases medem $f(x_{i-1})$ e $f(x_i)$. A soma das áreas dos traézios vale \n",
        "\n",
        "$$ \\dfrac{(f(x_0) + f(x_1))h}{2} + \\dfrac{(f(x_0) + f(x_1))h}{2} + \\dfrac{(f(x_0) + f(x_1))h}{2} + \\dfrac{(f(x_0) + f(x_1))h}{2} = \\dfrac{h}{2}(f(x_0) + 2f(x_1) + 2f(x_2) + 2f(x_3) + f(x_4)) $$ \n",
        "\n",
        "Em geral, se tivermos, $n+1$ pontos $x_0, x_1, \\dots, x_n$ então $$ \\int_{a}^{b} f(x) \\,dx =  \\dfrac{h}{2}(f(x_0) + 2f(x_1)+ \\dots + 2f(x_{n-1}) + f(x_n))$$\n",
        "\n",
        "Assim, dentro dos parênteses, todos os termos têm coeficientes iguais a $2$, exceto $f(x_0)$ e $f(x_n)$, cujos coeficientes valem $1$. Quanto maior o número de pontos, melhor será a precisão da regra, e se $f(x)$ for um polinômio de grau $1$ em cada subintervalo, então a regra dos traézios fornece o valor exato da integral.\n"
      ]
    },
    {
      "cell_type": "code",
      "metadata": {
        "id": "5lQlxWkk1H4i",
        "colab": {
          "base_uri": "https://localhost:8080/"
        },
        "outputId": "7268228e-5a12-4e9b-db10-2b01a9693368"
      },
      "source": [
        "from math import sin, pi\n",
        "f = lambda x: (x**2)*np.cos(x)\n",
        "a = 0\n",
        "b = pi/2\n",
        "n = 4\n",
        "h = (b - a) / n\n",
        "S = 0.5*(f(a)+f(b))\n",
        "for i in range(1,n):\n",
        "    S += f(a + i*h)\n",
        "Integral = h * S\n",
        "print('Integral = %f' % Integral)"
      ],
      "execution_count": null,
      "outputs": [
        {
          "output_type": "stream",
          "text": [
            "Integral = 0.435811\n"
          ],
          "name": "stdout"
        }
      ]
    },
    {
      "cell_type": "code",
      "metadata": {
        "id": "eXHqchF91vJ5"
      },
      "source": [
        "def trapz(f,a,b,N):\n",
        "    '''Aproximando a integral de f(x) de a até b pela regra do trapézio.\n",
        "    Parameters\n",
        "    ----------\n",
        "    f : função\n",
        "        Função de uma única variável\n",
        "    a , b : números\n",
        "        Intervalo de integração [a,b]\n",
        "    N : inteiro\n",
        "        Número de subintervalos de [a,b]\n",
        "\n",
        "    '''\n",
        "    x = np.linspace(a,b,N+1) # N+1 points make N subintervals\n",
        "    y = f(x)\n",
        "    y_right = y[1:] # right endpoints\n",
        "    y_left = y[:-1] # left endpoints\n",
        "    dx = (b - a)/N\n",
        "    T = (dx/2) * np.sum(y_right + y_left)\n",
        "    return T"
      ],
      "execution_count": null,
      "outputs": []
    },
    {
      "cell_type": "code",
      "metadata": {
        "id": "NflCSS2-2ZPF",
        "colab": {
          "base_uri": "https://localhost:8080/"
        },
        "outputId": "70ab68e0-238e-4c52-ca4e-117e814a8a86"
      },
      "source": [
        "trapz(f,2, 5, 9 )\n",
        "\n"
      ],
      "execution_count": null,
      "outputs": [
        {
          "output_type": "execute_result",
          "data": {
            "text/plain": [
              "0.2626893725492196"
            ]
          },
          "metadata": {
            "tags": []
          },
          "execution_count": 75
        }
      ]
    },
    {
      "cell_type": "code",
      "metadata": {
        "id": "i6YetVND2hgZ"
      },
      "source": [
        "def f(x):\n",
        "  return np.exp(4 - (x**2))"
      ],
      "execution_count": null,
      "outputs": []
    },
    {
      "cell_type": "code",
      "metadata": {
        "id": "foGFTWnC2tMB",
        "colab": {
          "base_uri": "https://localhost:8080/"
        },
        "outputId": "52e85dc0-e754-4f1f-a424-076b094ec480"
      },
      "source": [
        "(2*f(0.5) + 1)"
      ],
      "execution_count": null,
      "outputs": [
        {
          "output_type": "execute_result",
          "data": {
            "text/plain": [
              "1.25"
            ]
          },
          "metadata": {
            "tags": []
          },
          "execution_count": 22
        }
      ]
    },
    {
      "cell_type": "markdown",
      "metadata": {
        "id": "1nhIIBdMMUOV"
      },
      "source": [
        "<h1>Regra de Simpson</h1>\n",
        "\n",
        "Enquanto a regra do trapézio usa segmentos de reta para aproximar o gráfico de uma função a regra de Simpson usa parábolas. Para fixar as ideias, vamos supor que temos apenas três pontos $x_0, x_1$ e $x_2$ tais que $x_1 = x_0 + h$ e $x_2 = x_0 +2h$. Pela fórmula de Lagrange, o polinômio interpolador de $(x_0, f(x_0)), (x_1, f(x_1))$ e $(x_2, f(x_2))$ é $$p(x) = f(x_0)L_0(x) + f(x_1)L_1(x) + f(x_2)L_2(x) $$\n",
        "\n",
        "$$L_0(x) = \\dfrac{(x-x_1)(x-x_2)}{(x_0 - x_1)(x_0 - x_2)}$$\n",
        "\n",
        "$$L_1(x) = \\dfrac{(x-x_0)(x-x_2)}{(x_1 - x_0)(x_1 - x_2)}$$\n",
        "\n",
        "$$L_2(x) = \\dfrac{(x-x_0)(x-x_1)}{(x_2 - x_0)(x_2 - x_1)}$$\n",
        "\n",
        "\n",
        "Vamos aproximar a integral $\\int_{x_0}^{x_2} f(x) \\,dx$ por $\\int_{x_0}^{x_2} p(x) \\,dx$ \n",
        "\n",
        "Assim, temos:  \n",
        "\n",
        "$$ \\int_{x_0}^{x_2} f(x) \\,dx  \\simeq \\int_{x_0}^{x_2} p(x) \\,dx = f(x_0) \\int_{x_0}^{x_2} \\dfrac{(x-x_1)(x-x_2)}{(x_0 - x_1)(x_0 - x_2)} \\,dx + f(x_1)\\int_{x_0}^{x_2} \\dfrac{(x-x_0)(x-x_2)}{(x_1 - x_0)(x_0 - x_2)} \\,dx + f(x_2)\\int_{x_0}^{x_2} \\dfrac{(x-x_0)(x-x_1)}{(x_2 - x_0)(x_2 - x_1)} \\,dx$$\n",
        "\n",
        "Abrindo as contas, concluímos que $$\\int_{x_0}^{x_2} f(x) \\,dx \\simeq \\dfrac{h}{3}(f(x_0) + 4f(x_1) + 2f(x_2) + 4f(x_3) + f(x_4) )$$\n",
        "\n",
        "Com 7 pontos: $$\\int_{x_0}^{x_2} f(x) \\,dx \\simeq \\dfrac{h}{3}(f(x_0) + 4f(x_1) + 2f(x_2) + 4f(x_3) + 2f(x_4) + 4f(x_5) + f(x_6) ) $$\n",
        "\n",
        "Em geral, com $n+1$ pontos $\\begin{cases}\n",
        "    f(x_0) \\ \\, \\textrm{e } f(x_n), \\ \\, \\textrm{tem coeficientes iguais a } 1;\\\\\n",
        "    \\textrm{Os demais } f(x_j), \\ \\textrm{com j par, tem coeficientes iguais a} \\ 2 \\\\\n",
        "    f(x_j), \\ \\textrm{com j ímpar, tem coeficientes iguais a} \\ 4\n",
        "   \\end{cases} $"
      ]
    },
    {
      "cell_type": "code",
      "metadata": {
        "id": "Jre8vS8129Jh",
        "colab": {
          "base_uri": "https://localhost:8080/"
        },
        "outputId": "1c5e9749-24cf-4c86-f0bf-13f4e79e853a"
      },
      "source": [
        "'''\n",
        "Método: Regra de Simpson's 1/3\n",
        "''' \n",
        "from math import sin, pi\n",
        "f = lambda x: (x**2)*np.cos(x)\n",
        "a = 0\n",
        "b = pi/2\n",
        "n = 4\n",
        "h = (b - a) / n\n",
        "S = f(a)+f(b)\n",
        "for i in range(1,n,2):\n",
        "    S += 4*f(a + i*h)\n",
        "for i in range(2,n,2):\n",
        "    S += 2*f(a + i*h)\n",
        "Integral = h/3 * S\n",
        "print('Integral = %f' % Integral)"
      ],
      "execution_count": null,
      "outputs": [
        {
          "output_type": "stream",
          "text": [
            "Integral = 0.466890\n"
          ],
          "name": "stdout"
        }
      ]
    },
    {
      "cell_type": "markdown",
      "metadata": {
        "id": "OFUmKFjGeYGo"
      },
      "source": [
        "<h1> Quadratura de Gauss-Legendre</h1>\n",
        "\n"
      ]
    },
    {
      "cell_type": "code",
      "metadata": {
        "id": "WCh4uzHTcQNR"
      },
      "source": [
        "def gauss1(f,n):\n",
        "    [x,w] = p_roots(n+1)\n",
        "    G=sum(w*f(x))\n",
        "    return G\n",
        "\n",
        "def gauss(f,n,a,b):\n",
        "    [x,w] = p_roots(n+1)\n",
        "    G=0.5*(b-a)*sum(w*f(0.5*(b-a)*x+0.5*(b+a)))\n",
        "    return G"
      ],
      "execution_count": null,
      "outputs": []
    },
    {
      "cell_type": "code",
      "metadata": {
        "id": "7-1ebC4wP9_f",
        "colab": {
          "base_uri": "https://localhost:8080/"
        },
        "outputId": "d88d8a0e-f84c-4bb4-f8dd-1da91a6f7b97"
      },
      "source": [
        "def f(x):\n",
        "    return (x**2)*np.cos(x) \n",
        "\n",
        "gauss(f,4,0,pi/2)"
      ],
      "execution_count": null,
      "outputs": [
        {
          "output_type": "execute_result",
          "data": {
            "text/plain": [
              "0.4674010973769685"
            ]
          },
          "metadata": {
            "tags": []
          },
          "execution_count": 95
        }
      ]
    },
    {
      "cell_type": "markdown",
      "metadata": {
        "id": "dftYD0U_O-I4"
      },
      "source": [
        "<h1> Regra do Ponto Médio</h1>\n"
      ]
    },
    {
      "cell_type": "code",
      "metadata": {
        "id": "8qii6h5rPCcF"
      },
      "source": [
        "def midpoint(f, a, b, n):\n",
        "    h = float(b-a)/n\n",
        "    result = 0\n",
        "    for i in range(n):\n",
        "        result += f((a + h/2.0) + i*h)\n",
        "    result *= h\n",
        "    return result"
      ],
      "execution_count": null,
      "outputs": []
    },
    {
      "cell_type": "code",
      "metadata": {
        "id": "Wvdp1yFymDpL",
        "colab": {
          "base_uri": "https://localhost:8080/"
        },
        "outputId": "6afb40c5-20f2-4a8f-bef1-572221970434"
      },
      "source": [
        "midpoint(f,2,5,9)\n"
      ],
      "execution_count": null,
      "outputs": [
        {
          "output_type": "execute_result",
          "data": {
            "text/plain": [
              "0.20842044229261983"
            ]
          },
          "metadata": {
            "tags": []
          },
          "execution_count": 92
        }
      ]
    },
    {
      "cell_type": "code",
      "metadata": {
        "id": "HjLFTaIqubCo",
        "colab": {
          "base_uri": "https://localhost:8080/"
        },
        "outputId": "110daabf-a889-411f-9e9c-e0375ec274bc"
      },
      "source": [
        "abs(k - 0.346573)"
      ],
      "execution_count": null,
      "outputs": [
        {
          "output_type": "execute_result",
          "data": {
            "text/plain": [
              "0.053427"
            ]
          },
          "metadata": {
            "tags": []
          },
          "execution_count": 65
        }
      ]
    },
    {
      "cell_type": "markdown",
      "metadata": {
        "id": "jJA_RWbMMugT"
      },
      "source": [
        "#Questão 1"
      ]
    },
    {
      "cell_type": "code",
      "metadata": {
        "id": "LuvduXKuMsgE"
      },
      "source": [
        "x =  np.array([8.1,8.3,8.6,8.7],float)\n",
        "y = np.array([16.94410, 17.56492, 18.50515, 18.82091],float)\n",
        "\n",
        "xp = float(input(\"Valor de x: \"))\n",
        "yp = 0\n",
        "for xi,yi in zip(x,y):      #A função zip quebra o array em pares ordenados \n",
        "    yp += yi*np.prod((xp - x[x != xi])/(xi - x[x != xi])) \n",
        "\n",
        "print(\"para x = $%.2f, y = %f\" %(xp,yp))"
      ],
      "execution_count": null,
      "outputs": []
    },
    {
      "cell_type": "code",
      "metadata": {
        "id": "8XEqF18DMwIg",
        "colab": {
          "base_uri": "https://localhost:8080/"
        },
        "outputId": "58d7e20c-2959-4d43-f732-737b8c8816d6"
      },
      "source": [
        "x =  np.array([0.6, 0.7, 0.8, 1.0],float)\n",
        "y = np.array([-0.17694460, 0.01375227, 0.22363362, 0.65809197],float)\n",
        "\n",
        "xp = float(input(\"Valor de x: \"))\n",
        "yp = 0\n",
        "for xi,yi in zip(x,y):      #A função zip quebra o array em pares ordenados \n",
        "    yp += yi*np.prod((xp - x[x != xi])/(xi - x[x != xi])) \n",
        "\n",
        "print(\"para x = $%.2f, y = %f\" %(xp,yp))"
      ],
      "execution_count": null,
      "outputs": [
        {
          "output_type": "stream",
          "text": [
            "Valor de x: 0.9\n",
            "para x = $0.90, y = 0.441985\n"
          ],
          "name": "stdout"
        }
      ]
    },
    {
      "cell_type": "markdown",
      "metadata": {
        "id": "ytJZquLMhXIr"
      },
      "source": [
        "#Questão 3\n",
        "- Construa pelo método dos mínimos quadrados a melhor função que se ajusta aos pontos.\n",
        "\n",
        "<ol>\n",
        "<li> $y = ax + b$ </li>\n",
        "<li> $y = ax^2 + bx + c$ </li>\n",
        "<li> $y = ax^3 + bx^2 + cx + d$ </li>\n",
        "<li> $f(x) = be^{ax}$ </li>\n",
        "<li> $f(x) = bx^a$</li>\n",
        "<li> $f(x) = \\dfrac{a}{b+x} $</li>\n",
        "    \n",
        "<ol>"
      ]
    },
    {
      "cell_type": "markdown",
      "metadata": {
        "id": "9QyQqjnujW5B"
      },
      "source": [
        "#1) $y = ax + b$"
      ]
    },
    {
      "cell_type": "code",
      "metadata": {
        "id": "ShrmnvXVhWkp",
        "colab": {
          "base_uri": "https://localhost:8080/",
          "height": 297
        },
        "outputId": "3773c794-1a53-4ad1-fb0a-a0776f1771ef"
      },
      "source": [
        "#Função\n",
        "def func(x, a, b):\n",
        "    return a*x+b \n",
        " \n",
        "#Dados de x e y\n",
        "xData = np.array([0.2, 0.3, 0.6, 0.9, 1.1, 1.3, 1.4, 1.6])\n",
        "yData = np.array([0.050446, 0.098426, 0.33277, 0.72660, 1.0972, 1.5697, 1.8487, 2.5015])\n",
        " \n",
        "#Plot experimental data points\n",
        "plt.plot(xData, yData, 'bo', label='Dados-Experimentais')\n",
        " \n",
        "#Chute inicial dos parâmetros\n",
        "initialGuess = [1.0,1.0]    \n",
        " \n",
        "#Valor ótimo dos parâmetros\n",
        "popt, pcov = curve_fit(func, xData, yData, initialGuess)\n",
        "print(popt)\n",
        " \n",
        "#Valores de x para nova curva\n",
        "xFit = np.arange(0.0, 5.0, 0.01)\n",
        " \n",
        "#Plot da Função\n",
        "plt.plot(xFit, func(xFit, *popt), 'r', label='Parametros: a=%5.3f, b=%5.3f' % tuple(popt))\n",
        " \n",
        "plt.xlabel('x')\n",
        "plt.ylabel('y')\n",
        "plt.legend()\n",
        "plt.show()"
      ],
      "execution_count": null,
      "outputs": [
        {
          "output_type": "stream",
          "text": [
            "[ 1.66554008 -0.51245682]\n"
          ],
          "name": "stdout"
        },
        {
          "output_type": "display_data",
          "data": {
            "image/png": "[encoded data removed]",
            "text/plain": [
              "<Figure size 432x288 with 1 Axes>"
            ]
          },
          "metadata": {
            "tags": [],
            "needs_background": "light"
          }
        }
      ]
    },
    {
      "cell_type": "markdown",
      "metadata": {
        "id": "NJt5AVlVjZjP"
      },
      "source": [
        "#2)  $y = ax^2 + bx + c$"
      ]
    },
    {
      "cell_type": "code",
      "metadata": {
        "id": "nx5iHXsXi3Qh",
        "colab": {
          "base_uri": "https://localhost:8080/",
          "height": 297
        },
        "outputId": "8f73ef93-42df-4e2a-d935-351afa02d26c"
      },
      "source": [
        "#Função\n",
        "def func(x, a, b, c):\n",
        "    return a*(x**2) + b*x + c\n",
        "    \n",
        " \n",
        "#Dados de x e y   \n",
        "xData = np.array([0.2, 0.3, 0.6, 0.9, 1.1, 1.3, 1.4, 1.6])\n",
        "yData = np.array([0.050446, 0.098426, 0.33277, 0.72660, 1.0972, 1.5697, 1.8487, 2.5015])\n",
        " \n",
        "#Plot dos pontos\n",
        "plt.plot(xData, yData, 'bo', label='experimental-data')\n",
        " \n",
        "#Chute inicial dos parâmetros\n",
        "initialGuess = [1.0,1.0,1.0]    \n",
        " \n",
        "#Valor ótimo para os parâmetros\n",
        "popt, pcov = curve_fit(func, xData, yData, initialGuess)\n",
        "print(popt)\n",
        " \n",
        "#Valores de x para nova curva\n",
        "xFit = np.arange(0.0, 5.0, 0.01)\n",
        " \n",
        "#Plot da Função\n",
        "plt.plot(xFit, func(xFit, *popt), 'r', label='fit params: a=%5.3f, b=%5.3f, c=%5.3f ' % tuple(popt))\n",
        " \n",
        "plt.xlabel('x')\n",
        "plt.ylabel('y')\n",
        "plt.legend()\n",
        "plt.show()"
      ],
      "execution_count": null,
      "outputs": [
        {
          "output_type": "stream",
          "text": [
            "[ 1.12942386 -0.31140344  0.08514393]\n"
          ],
          "name": "stdout"
        },
        {
          "output_type": "display_data",
          "data": {
            "image/png": "[encoded data removed]",
            "text/plain": [
              "<Figure size 432x288 with 1 Axes>"
            ]
          },
          "metadata": {
            "tags": [],
            "needs_background": "light"
          }
        }
      ]
    },
    {
      "cell_type": "code",
      "metadata": {
        "id": "ivZI4R8_oaq8"
      },
      "source": [
        ""
      ],
      "execution_count": null,
      "outputs": []
    },
    {
      "cell_type": "markdown",
      "metadata": {
        "id": "CGeIwsWfjbUB"
      },
      "source": [
        "#3)  $y = ax^3 + bx^2 + cx + d$"
      ]
    },
    {
      "cell_type": "code",
      "metadata": {
        "id": "ZFtQEDsNi3al",
        "colab": {
          "base_uri": "https://localhost:8080/",
          "height": 297
        },
        "outputId": "4ba5a2aa-5b4d-4324-f002-be972776dfb5"
      },
      "source": [
        "\n",
        "#Função\n",
        "def func(x, a, b, c, d):\n",
        "    return a*(x**3) + b*(x**2) + c*x + d \n",
        "    \n",
        " \n",
        "#Dados de x e y    \n",
        "xData = np.array([0.2, 0.3, 0.6, 0.9, 1.1, 1.3, 1.4, 1.6])\n",
        "yData = np.array([0.050446, 0.098426, 0.33277, 0.72660, 1.0972, 1.5697, 1.8487, 2.5015])\n",
        " \n",
        "#Plot dos pontos\n",
        "plt.plot(xData, yData, 'bo', label='experimental-data')\n",
        " \n",
        "#Chute inicial dos parâmetros\n",
        "initialGuess = [1.0,1.0,1.0,1.0]    \n",
        " \n",
        "#Valores ideias para curva ótima\n",
        "popt, pcov = curve_fit(func, xData, yData, initialGuess)\n",
        "print(popt)\n",
        " \n",
        "#Valores de x para nova curva\n",
        "xFit = np.arange(0.0, 5.0, 0.01)\n",
        " \n",
        "#Plot da função \n",
        "plt.plot(xFit, func(xFit, *popt), 'r', label='fit params: a=%5.3f, b=%5.3f, c=%5.3f, d=%5.3fv' % tuple(popt))\n",
        " \n",
        "plt.xlabel('x')\n",
        "plt.ylabel('y')\n",
        "plt.legend()\n",
        "plt.show()"
      ],
      "execution_count": null,
      "outputs": [
        {
          "output_type": "stream",
          "text": [
            "[ 0.26620809  0.40293222  0.24838578 -0.0184014 ]\n"
          ],
          "name": "stdout"
        },
        {
          "output_type": "display_data",
          "data": {
            "image/png": "[encoded data removed]",
            "text/plain": [
              "<Figure size 432x288 with 1 Axes>"
            ]
          },
          "metadata": {
            "tags": [],
            "needs_background": "light"
          }
        }
      ]
    },
    {
      "cell_type": "code",
      "metadata": {
        "id": "-WlBiA61oZng"
      },
      "source": [
        ""
      ],
      "execution_count": null,
      "outputs": []
    },
    {
      "cell_type": "markdown",
      "metadata": {
        "id": "AkdLtcejjc8_"
      },
      "source": [
        "#4) $f(x) = be^{ax}$"
      ]
    },
    {
      "cell_type": "code",
      "metadata": {
        "id": "GYOeedgHi3nI",
        "colab": {
          "base_uri": "https://localhost:8080/",
          "height": 297
        },
        "outputId": "ff165512-0b49-44ce-cd20-b81d4892d624"
      },
      "source": [
        "#Função\n",
        "def func(x, a, b):\n",
        "    return b*np.exp(a*x)\n",
        "    \n",
        " \n",
        "#Dados de x e y  \n",
        "xData = np.array([0.2, 0.3, 0.6, 0.9, 1.1, 1.3, 1.4, 1.6])\n",
        "yData = np.array([0.050446, 0.098426, 0.33277, 0.72660, 1.0972, 1.5697, 1.8487, 2.5015])\n",
        " \n",
        "#Plot dos pontos\n",
        "plt.plot(xData, yData, 'bo', label='experimental-data')\n",
        " \n",
        "#Chute dos parâmetros \n",
        "initialGuess = [1.0,1.0]    \n",
        " \n",
        "#Valor ótimo dos parâmetros\n",
        "popt, pcov = curve_fit(func, xData, yData, initialGuess)\n",
        "print(popt)\n",
        " \n",
        "#Valores de x para nova curva\n",
        "xFit = np.arange(0.0, 5.0, 0.01)\n",
        " \n",
        "#Plot da Função\n",
        "plt.plot(xFit, func(xFit, *popt), 'r', label='fit params: a=%5.3f, b=%5.3f' % tuple(popt))\n",
        " \n",
        "plt.xlabel('x')\n",
        "plt.ylabel('y')\n",
        "plt.legend()\n",
        "plt.show()"
      ],
      "execution_count": null,
      "outputs": [
        {
          "output_type": "stream",
          "text": [
            "[1.85831477 0.13258633]\n"
          ],
          "name": "stdout"
        },
        {
          "output_type": "display_data",
          "data": {
            "image/png": "[encoded data removed]",
            "text/plain": [
              "<Figure size 432x288 with 1 Axes>"
            ]
          },
          "metadata": {
            "tags": [],
            "needs_background": "light"
          }
        }
      ]
    },
    {
      "cell_type": "markdown",
      "metadata": {
        "id": "x2xPluFQjewn"
      },
      "source": [
        "#5) $f(x) = bx^a$"
      ]
    },
    {
      "cell_type": "code",
      "metadata": {
        "id": "LV59nhOji3zB",
        "colab": {
          "base_uri": "https://localhost:8080/",
          "height": 297
        },
        "outputId": "b37e7dcf-379a-4937-bb2d-7459d41728c9"
      },
      "source": [
        "#Função\n",
        "def func(x, a, b):\n",
        "  return b*(x**a)\n",
        "    \n",
        " \n",
        "#Dados de x e y  \n",
        "xData = np.array([0.2, 0.3, 0.6, 0.9, 1.1, 1.3, 1.4, 1.6])\n",
        "yData = np.array([0.050446, 0.098426, 0.33277, 0.72660, 1.0972, 1.5697, 1.8487, 2.5015])\n",
        " \n",
        "#Plot dos pontos\n",
        "plt.plot(xData, yData, 'bo', label='experimental-data')\n",
        " \n",
        "# Chute inicial \n",
        "initialGuess = [1.0,1.0]    \n",
        " \n",
        "#Valor ótimo dos parâmetros\n",
        "popt, pcov = curve_fit(func, xData, yData, initialGuess)\n",
        "print(popt)\n",
        " \n",
        "#Valores de x para nova curva\n",
        "xFit = np.arange(0.0, 5.0, 0.01)\n",
        " \n",
        "#Plot da Função\n",
        "plt.plot(xFit, func(xFit, *popt), 'r', label='fit params: a=%5.3f, b=%5.3f' % tuple(popt))\n",
        " \n",
        "plt.xlabel('x')\n",
        "plt.ylabel('y')\n",
        "plt.legend()\n",
        "plt.show()"
      ],
      "execution_count": null,
      "outputs": [
        {
          "output_type": "stream",
          "text": [
            "[2.14277288 0.90552245]\n"
          ],
          "name": "stdout"
        },
        {
          "output_type": "display_data",
          "data": {
            "image/png": "[encoded data removed]",
            "text/plain": [
              "<Figure size 432x288 with 1 Axes>"
            ]
          },
          "metadata": {
            "tags": [],
            "needs_background": "light"
          }
        }
      ]
    },
    {
      "cell_type": "markdown",
      "metadata": {
        "id": "fnfUe5gMjgWC"
      },
      "source": [
        "#6)  $f(x) = \\dfrac{a}{b+x} $"
      ]
    },
    {
      "cell_type": "code",
      "metadata": {
        "id": "mld-mBxGi38z",
        "colab": {
          "base_uri": "https://localhost:8080/",
          "height": 297
        },
        "outputId": "50f224b2-0b28-418c-b78e-2c69082f8e20"
      },
      "source": [
        "#Fitting function\n",
        "def func(x, a, b):\n",
        "  y = (a/b) + (x/b)\n",
        "  return 1/y\n",
        " \n",
        "#Experimental x and y data points    \n",
        "xData = np.array([0.2, 0.3, 0.6, 0.9, 1.1, 1.3, 1.4, 1.6])\n",
        "yData = np.array([0.050446, 0.098426, 0.33277, 0.72660, 1.0972, 1.5697, 1.8487, 2.5015])\n",
        " \n",
        "#Plot experimental data points\n",
        "plt.plot(xData, yData, 'bo', label='experimental-data')\n",
        " \n",
        "#Chute inicial dos parâmetros\n",
        "initialGuess = [1.0,1.0]    \n",
        " \n",
        "#Valor ótimo dos parâmetros\n",
        "popt, pcov = curve_fit(func, xData, yData, initialGuess)\n",
        "print(popt)\n",
        " \n",
        "#Valores de x para nova curva\n",
        "xFit = np.arange(0.0, 5.0, 0.01)\n",
        " \n",
        "#Plot da Função\n",
        "plt.plot(xFit, func(xFit, *popt), 'r', label='fit params: a=%5.3f, b=%5.3f' % tuple(popt))\n",
        " \n",
        "plt.xlabel('x')\n",
        "plt.ylabel('y')\n",
        "plt.legend()\n",
        "plt.show()"
      ],
      "execution_count": null,
      "outputs": [
        {
          "output_type": "stream",
          "text": [
            "[21537345.93236423 22144004.50633563]\n"
          ],
          "name": "stdout"
        },
        {
          "output_type": "display_data",
          "data": {
            "image/png": "[encoded data removed]",
            "text/plain": [
              "<Figure size 432x288 with 1 Axes>"
            ]
          },
          "metadata": {
            "tags": [],
            "needs_background": "light"
          }
        }
      ]
    },
    {
      "cell_type": "markdown",
      "metadata": {
        "id": "8Xr_NuhqI5eB"
      },
      "source": [
        "#Questão 4"
      ]
    },
    {
      "cell_type": "code",
      "metadata": {
        "id": "md0KUJn9OKJ9",
        "colab": {
          "base_uri": "https://localhost:8080/"
        },
        "outputId": "c9d3226a-21d1-456b-eab1-8d028b168c76"
      },
      "source": [
        "x = [0.2, 0.3, 0.6, 0.9, 1.1, 1.3, 1.4, 1.6]\n",
        "y = [0.050446, 0.098426, 0.33277, 0.72660, 1.0972, 1.5697, 1.8487, 2.5015]\n",
        "Res = 0\n",
        "for i in range(0,8):\n",
        "    Res = Res + abs(func(x[i],21537345.93236423, 22144004.50633563) - y[i])\n",
        "print(Res)"
      ],
      "execution_count": null,
      "outputs": [
        {
          "output_type": "stream",
          "text": [
            "5.808858162312017\n"
          ],
          "name": "stdout"
        }
      ]
    },
    {
      "cell_type": "code",
      "metadata": {
        "id": "NmzAmeBEODnv"
      },
      "source": [
        "#Fitting function\n",
        "def func(x, a, b):\n",
        "  y = (a/b) + (x/b)\n",
        "  return 1/y"
      ],
      "execution_count": null,
      "outputs": []
    },
    {
      "cell_type": "markdown",
      "metadata": {
        "id": "6Jx-b6svD8lH"
      },
      "source": [
        "#Questão 5"
      ]
    },
    {
      "cell_type": "code",
      "metadata": {
        "id": "SzaQ8ILUOF_b"
      },
      "source": [
        "def midpoint(f, a, b, n):\n",
        "    h = float(b-a)/n\n",
        "    result = 0\n",
        "    for i in range(n):\n",
        "        result += f((a + h/2.0) + i*h)\n",
        "    result *= h\n",
        "    return result"
      ],
      "execution_count": null,
      "outputs": []
    },
    {
      "cell_type": "code",
      "metadata": {
        "id": "fjowLKI4F5B2"
      },
      "source": [
        "def f(x):\n",
        "  return "
      ],
      "execution_count": null,
      "outputs": []
    },
    {
      "cell_type": "code",
      "metadata": {
        "id": "lA41wT8QF7Ze",
        "colab": {
          "base_uri": "https://localhost:8080/"
        },
        "outputId": "4a67eea3-8655-43f7-8209-1d27d2903942"
      },
      "source": [
        "midpoint(f,0,1,1)"
      ],
      "execution_count": null,
      "outputs": [
        {
          "output_type": "execute_result",
          "data": {
            "text/plain": [
              "0.6065306597126334"
            ]
          },
          "metadata": {
            "tags": []
          },
          "execution_count": 99
        }
      ]
    },
    {
      "cell_type": "code",
      "metadata": {
        "id": "Hfx_WmX6F-xW"
      },
      "source": [
        ""
      ],
      "execution_count": null,
      "outputs": []
    }
  ]
}