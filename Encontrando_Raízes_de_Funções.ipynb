{
  "nbformat": 4,
  "nbformat_minor": 0,
  "metadata": {
    "colab": {
      "name": "Encontrando Raízes de Funções.ipynb",
      "provenance": [],
      "authorship_tag": "ABX9TyNI0sAzBB/DXSEQK16lSdp7",
      "include_colab_link": true
    },
    "kernelspec": {
      "name": "python3",
      "display_name": "Python 3"
    }
  },
  "cells": [
    {
      "cell_type": "markdown",
      "metadata": {
        "id": "view-in-github",
        "colab_type": "text"
      },
      "source": [
        "<a href=\"https://colab.research.google.com/github/jplavorr/Math-projects/blob/main/Encontrando_Ra%C3%ADzes_de_Fun%C3%A7%C3%B5es.ipynb\" target=\"_parent\"><img src=\"https://colab.research.google.com/assets/colab-badge.svg\" alt=\"Open In Colab\"/></a>"
      ]
    },
    {
      "cell_type": "markdown",
      "metadata": {
        "id": "Fl2g7UksKSLY"
      },
      "source": [
        "# Métodos de Encontrar Raízes \n",
        "\n",
        "\n",
        "#Método da Bisseção \n",
        "\n",
        "- Algoritmo:\n",
        "<ol>\n",
        "<li> Intervalo inicial: [a,b], precisão $\\epsilon$ </li>\n",
        "<li> Se $ b - a < \\epsilon $, escolha qualquer $ x' $ em [a,b] p/ ser a raiz </li>\n",
        "<li> Se $ b - a \\geq \\epsilon $, seja $ m = \\dfrac{a+b}{2} $ </li>\n",
        "<li> Se $f(a) \\cdot f(b) < 0 $, troque b por m. se  $f(a) \\cdot f(m) < 0 $, troque a por m </li>\n",
        "<li> Volte para o passo (2) </li>\n",
        "    \n",
        "<ol>\n",
        "\n"
      ]
    },
    {
      "cell_type": "code",
      "metadata": {
        "id": "GEb5uMJrKBaC"
      },
      "source": [
        "import math"
      ],
      "execution_count": null,
      "outputs": []
    },
    {
      "cell_type": "markdown",
      "metadata": {
        "id": "JODXwytcKlUc"
      },
      "source": [
        "Exemplo 1:   $ \\ \\  x^3 - 3 \\cdot x + 1  $"
      ]
    },
    {
      "cell_type": "code",
      "metadata": {
        "id": "0icMjAa5Kh0o"
      },
      "source": [
        "f = lambda x: x**3 - 3*x +1"
      ],
      "execution_count": null,
      "outputs": []
    },
    {
      "cell_type": "code",
      "metadata": {
        "id": "xjRZQxZvKyDk"
      },
      "source": [
        "def met_bissec(f,a,b,tol = 1.0e-7, maxfpos = 100):\n",
        "    fpos = 0 \n",
        "    m=0\n",
        "    if f(a)*f(b) < 0:\n",
        "        for fpos in range(1,maxfpos+1):\n",
        "            fpos = fpos + 1                                  \n",
        "            m = (b+a)/2\n",
        "            if abs(b-a) < tol:\n",
        "                break\n",
        "            else:\n",
        "                if f(a)*f(m) < 0:\n",
        "                    b = m                                \n",
        "                else:\n",
        "                    a = m\n",
        "            \n",
        "        return print(\"A o valor de m para raiz eh:\", m, \"O valor da função em m:\", f(m), \"Com\", fpos, \"iterações\")\n",
        "    else:\n",
        "        return print(\"Não tem raiz no intervalo [a,b]\")\n",
        "            \n",
        "                                                    "
      ],
      "execution_count": null,
      "outputs": []
    },
    {
      "cell_type": "code",
      "metadata": {
        "id": "ked5Tm_83_cQ"
      },
      "source": [
        "f2 = lambda x: math.exp(-(x/11)) + x*math.cos(2*x)\n",
        "df2 = lambda x: -2*x*math.sin(2*x) + math.cos(2*x) - math.exp(-x/11)/11"
      ],
      "execution_count": null,
      "outputs": []
    },
    {
      "cell_type": "code",
      "metadata": {
        "id": "sT7vkl4a4lV9",
        "colab": {
          "base_uri": "https://localhost:8080/",
          "height": 34
        },
        "outputId": "23a37ce2-ec8d-483c-853f-98d32bd78604"
      },
      "source": [
        "met_bissec(df2, 7.7, 8.1)"
      ],
      "execution_count": null,
      "outputs": [
        {
          "output_type": "stream",
          "text": [
            "A o valor de m para raiz eh: 7.887040853500366 O valor da função em m: -4.365278197943079e-08 Com 24 iterações\n"
          ],
          "name": "stdout"
        }
      ]
    },
    {
      "cell_type": "markdown",
      "metadata": {
        "id": "9lDOY0OyLNG5"
      },
      "source": [
        "# Método 2 - Falsa Posição\n",
        "\n",
        "- Algoritmo:\n",
        "\n",
        "<ol>\n",
        "<li> Intervalo inicial: [a,b], precisão $\\epsilon_1$ e $ \\epsilon_2 $  </li>\n",
        "<li> Seja $$ x_0 = \\dfrac{a \\cdot f(b) \\ - \\ b \\cdot f(a)}{f(b) - f(a)} $$\n",
        "<li> Se $ b - a < \\epsilon_1$ ou $ \\mid f(x_0) \\mid < \\epsilon_2$ tome $x_0$ como raiz aproximada  </li>\n",
        "<li> Caso contrário, se $f(a) \\cdot f(b) < 0$ /, troque b por $x_0$, e se $f(x_0) \\cdot f(b) < 0$, troque a por $x_0$ </li>\n",
        "<li> Volte para o passo (2) </li>\n",
        "    \n",
        "<ol>"
      ]
    },
    {
      "cell_type": "code",
      "metadata": {
        "id": "DgB9sLbvLJ8c"
      },
      "source": [
        "def RFalsi(f,a,b,tol = 1.0e-6, maxfpos = 100):\n",
        "    fpos = 0 \n",
        "    x0=0\n",
        "    if f(a)*f(b) < 0:\n",
        "        for fpos in range(1, maxfpos+1):\n",
        "            fpos = fpos + 1                                  \n",
        "            x0 = (a*f(b) - b*f(a))/(f(b) - f(a))\n",
        "            if abs(f(x0)) < tol:\n",
        "                break\n",
        "            else:\n",
        "                if f(a)*f(x0) < 0:\n",
        "                    b = x0                                \n",
        "                else:\n",
        "                    a = x0\n",
        "            \n",
        "        return print(\"A o valor de x0 para raiz eh:\", x0, \"O valor da função em x0:\", f(x0), \"Com\", fpos, \"iterações\")\n",
        "    else:\n",
        "        return print(\"Não tem raiz no intervalo [a,b]\")\n",
        "        "
      ],
      "execution_count": null,
      "outputs": []
    },
    {
      "cell_type": "markdown",
      "metadata": {
        "id": "3qvb78LOLeMu"
      },
      "source": [
        "# Método do Ponto Fixo\n",
        "\n",
        "-Algoritmo:\n",
        "\n",
        "<h3>Considere a equação $f(x) = 0$ e a equação auxiliar $\\varphi(x) = x $</h3>\n",
        "<ol>\n",
        "    <li> Escolha a aproximação inicial $ x_0 $ e as precisões $\\epsilon_1$ e $\\epsilon_2$   </li>\n",
        "    <li> Se $ \\mid f(x_0) \\mid < \\epsilon_2$, escolha $ x_0 $ como raiz aproximada \n",
        "    <li> Caso contrário, seja $x_1=\\varphi(x_0)$  </li>\n",
        "    <li> Se $ \\mid x_1 - x_0\\mid < \\epsilon_1$ ou $ \\mid f(x_1) \\mid < \\epsilon_2$ escolha $x_1$ como raiz aproximada</li>\n",
        "    <li> Caso contrário, troque $x_0$ por $x_1$ e $x_1$ por $\\varphi(x_1)$ e volte para (4) </li>\n",
        "    \n",
        "<ol>"
      ]
    },
    {
      "cell_type": "code",
      "metadata": {
        "id": "oAqAG-M7LdJ2"
      },
      "source": [
        "def p_fixo2(g,x, tol = 1.0e-6, maxfpos = 100):\n",
        "    for i in range(100):\n",
        "        x1 = g(x)\n",
        "        if abs(x1 - x) < tol: break\n",
        "        x = x1\n",
        "    return print(\"a raiz é %f em %d iterações.\" % (x1, i))\n"
      ],
      "execution_count": null,
      "outputs": []
    },
    {
      "cell_type": "code",
      "metadata": {
        "id": "7SUNP7w5weKg"
      },
      "source": [
        "f2 = lambda x: math.exp(-(x**2)) - x\n",
        "g1 = lambda x: math.exp(-(x**2))"
      ],
      "execution_count": null,
      "outputs": []
    },
    {
      "cell_type": "code",
      "metadata": {
        "id": "_Gey5kjFwywl",
        "colab": {
          "base_uri": "https://localhost:8080/",
          "height": 34
        },
        "outputId": "ee9a1217-b5cd-4b4d-d13b-65945f1d0e3f"
      },
      "source": [
        "p_fixo2(g1, 0.3)"
      ],
      "execution_count": null,
      "outputs": [
        {
          "output_type": "stream",
          "text": [
            "a raiz é 0.652918 em 83 iterações.\n"
          ],
          "name": "stdout"
        }
      ]
    },
    {
      "cell_type": "markdown",
      "metadata": {
        "id": "15CPevpaL9Jk"
      },
      "source": [
        "# Método de Newton\n",
        "\n",
        "-Algoritmo:\n",
        "\n",
        "<ol>\n",
        "    <li> Ache $f'(x)$ e defina a equação de Newthon-Raphson $$ \\varphi(x) = x_{k+1} = x_k - \\dfrac{f(x_0)}{f'(x_0)}  $$   </li>\n",
        "    <li> Chute um valor inicial para $x_0$\n",
        "    <li> Substitua $x_0$ na equação e calcule x_1   </li>\n",
        "    <li> Se $ \\mid x_1 - x_0\\mid < \\epsilon$ escolha $x_1$ como raiz aproximada</li>\n",
        "    <li> Caso contrário, troque $x_0$ por $x_1$ e repita o passo 3 </li>\n",
        "    \n",
        "<ol>"
      ]
    },
    {
      "cell_type": "markdown",
      "metadata": {
        "id": "6GzvqFrtMLzQ"
      },
      "source": [
        "-Exemplo:  $$  f(x) =  cos(x) - x^2  $$"
      ]
    },
    {
      "cell_type": "code",
      "metadata": {
        "id": "QCfLSWICMFlO"
      },
      "source": [
        "from sympy import *\n",
        "x, y, z = symbols('x y z')\n",
        "init_printing(use_unicode=True)"
      ],
      "execution_count": null,
      "outputs": []
    },
    {
      "cell_type": "code",
      "metadata": {
        "id": "VeRnhw-oMO39",
        "colab": {
          "base_uri": "https://localhost:8080/",
          "height": 55
        },
        "outputId": "ac44c251-ff84-4dec-cc14-798b39ec3823"
      },
      "source": [
        "print(\"A derivada de f(x) é:\")\n",
        "df = diff(cos(x) - x**2, x)\n",
        "df"
      ],
      "execution_count": null,
      "outputs": [
        {
          "output_type": "stream",
          "text": [
            "A derivada de f(x) é:\n"
          ],
          "name": "stdout"
        },
        {
          "output_type": "execute_result",
          "data": {
            "image/png": "[encoded data removed]",
            "text/latex": "$$- 2 x - \\sin{\\left (x \\right )}$$",
            "text/plain": [
              "-2⋅x - sin(x)"
            ]
          },
          "metadata": {
            "tags": []
          },
          "execution_count": 14
        }
      ]
    },
    {
      "cell_type": "markdown",
      "metadata": {
        "id": "DbxDLc46MUai"
      },
      "source": [
        "A fórmula de newthon raphson para determinada função é:  $$ x_1 = x_0 - \\dfrac{cos(x) - x^2}{-sin(x) - 2x} $$ "
      ]
    },
    {
      "cell_type": "code",
      "metadata": {
        "id": "WgtgPvmbMQjN"
      },
      "source": [
        "def nraphson(fn, dfn,x, tol = 1.0e-6, maxfpos = 100):\n",
        "    for i in range(100):\n",
        "        x1 = x - fn(x)/dfn(x)\n",
        "        if abs(x1 - x) < tol: break\n",
        "        x = x1\n",
        "    return print(\"a raiz é %f em %d iterações.\" % (x1, i))"
      ],
      "execution_count": null,
      "outputs": []
    },
    {
      "cell_type": "code",
      "metadata": {
        "id": "JsU4ppjyMZqZ"
      },
      "source": [
        "fn = lambda x:  math.cos(x) - x**2\n",
        "dfn = lambda x: -math.sin(x) - 2*x"
      ],
      "execution_count": null,
      "outputs": []
    },
    {
      "cell_type": "code",
      "metadata": {
        "id": "WW6wTy6jMaIF",
        "colab": {
          "base_uri": "https://localhost:8080/",
          "height": 34
        },
        "outputId": "d802241c-74e2-4ec4-ca1d-6ebb4d8736d7"
      },
      "source": [
        "nraphson(fn, dfn, 0.6)"
      ],
      "execution_count": null,
      "outputs": [
        {
          "output_type": "stream",
          "text": [
            "a raiz é 0.824132 em 3 iterações.\n"
          ],
          "name": "stdout"
        }
      ]
    },
    {
      "cell_type": "markdown",
      "metadata": {
        "id": "gfokQxkEMea_"
      },
      "source": [
        "# Método da Secante\n",
        "\n",
        "-Algoritmo:\n",
        "\n",
        "<ol>\n",
        "    <li> Entre com os valores de $x_1$ e $x_2$ </li>\n",
        "    <li> Calcule o método da secante: $$ x^* =x_2 - \\dfrac{x_2 - x_1}{f(x_2) - f(x_1)}\\cdot f(x_2)  $$   </li>\n",
        "    <li> Se $ \\mid x^* - x_2\\mid < \\epsilon$ escolha $x*$ como raiz aproximada </li>\n",
        "    <li> Caso contrário, troque $x_1$ por $x_2$ e $x_2$ por $x*$ </li>\n",
        "    <li> repita o passo (2) </li>\n",
        "<ol>"
      ]
    },
    {
      "cell_type": "code",
      "metadata": {
        "id": "5modi1yLMb9d"
      },
      "source": [
        "def secante(fn, x1, x2,tol = 1.0e-6, maxfpos = 100 ):\n",
        "    for i in range(1, maxfpos+1):\n",
        "        xnew = x2 - (x2-x1)/(fn(x2)-fn(x1))*fn(x2)\n",
        "        if abs(xnew - x2) < tol : break\n",
        "        else:\n",
        "            x1 = x2\n",
        "            x2 = xnew\n",
        "    return xnew, i"
      ],
      "execution_count": null,
      "outputs": []
    },
    {
      "cell_type": "code",
      "metadata": {
        "id": "0IlQnfD3Mmkd"
      },
      "source": [
        "f1 = lambda x: sqrt(x) - math.cos(x)"
      ],
      "execution_count": null,
      "outputs": []
    },
    {
      "cell_type": "code",
      "metadata": {
        "id": "Q6NhucOzsucK",
        "colab": {
          "base_uri": "https://localhost:8080/",
          "height": 37
        },
        "outputId": "d6542f54-53a7-41f0-9f14-37e729d33a22"
      },
      "source": [
        "secante(f1, 0.4, 0.6)"
      ],
      "execution_count": null,
      "outputs": [
        {
          "output_type": "execute_result",
          "data": {
            "image/png": "[encoded data removed]",
            "text/latex": "$$\\left ( 0.641714370872883, \\quad 4\\right )$$",
            "text/plain": [
              "(0.641714370872883, 4)"
            ]
          },
          "metadata": {
            "tags": []
          },
          "execution_count": 17
        }
      ]
    },
    {
      "cell_type": "code",
      "metadata": {
        "id": "qzF6FQECuA3l"
      },
      "source": [
        ""
      ],
      "execution_count": null,
      "outputs": []
    }
  ]
}